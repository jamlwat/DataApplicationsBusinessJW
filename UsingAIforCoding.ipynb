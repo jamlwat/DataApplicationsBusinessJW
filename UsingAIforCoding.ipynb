{
  "nbformat": 4,
  "nbformat_minor": 0,
  "metadata": {
    "colab": {
      "provenance": [],
      "authorship_tag": "ABX9TyPRnZVqDqXPR+AEvDRB154I",
      "include_colab_link": true
    },
    "kernelspec": {
      "name": "python3",
      "display_name": "Python 3"
    },
    "language_info": {
      "name": "python"
    }
  },
  "cells": [
    {
      "cell_type": "markdown",
      "metadata": {
        "id": "view-in-github",
        "colab_type": "text"
      },
      "source": [
        "<a href=\"https://colab.research.google.com/github/jamlwat/DataApplicationsBusinessJW/blob/main/UsingAIforCoding.ipynb\" target=\"_parent\"><img src=\"https://colab.research.google.com/assets/colab-badge.svg\" alt=\"Open In Colab\"/></a>"
      ]
    },
    {
      "cell_type": "code",
      "execution_count": null,
      "metadata": {
        "colab": {
          "base_uri": "https://localhost:8080/"
        },
        "id": "bVPtXAubZ__Z",
        "outputId": "4eec8dd4-5db5-4455-80d7-f1be55cd6183"
      },
      "outputs": [
        {
          "output_type": "stream",
          "name": "stdout",
          "text": [
            "101101 is a palindrome.\n"
          ]
        }
      ],
      "source": [
        "def is_palindrome(s):\n",
        "    # Check if the string s is equal to its reverse (reads the same backward)\n",
        "    return s == s[::-1]\n",
        "\n",
        "# Example usage:\n",
        "input_string = \"101101\"\n",
        "result = is_palindrome(input_string)\n",
        "\n",
        "# Output the result based on whether the string is a palindrome or not\n",
        "if result:\n",
        "    print(f\"{input_string} is a palindrome.\")\n",
        "else:\n",
        "    print(f\"{input_string} is not a palindrome.\")"
      ]
    },
    {
      "cell_type": "code",
      "source": [
        "input_string = \"1000110\"\n",
        "result = is_palindrome(input_string)\n",
        "\n",
        "if result:\n",
        "    print(f\"{input_string} is a palindrome.\")\n",
        "else:\n",
        "    print(f\"{input_string} is not a palindrome.\")"
      ],
      "metadata": {
        "colab": {
          "base_uri": "https://localhost:8080/"
        },
        "id": "14lYDEMBcA1Q",
        "outputId": "212568de-b018-4348-f06f-6e1b8d237893"
      },
      "execution_count": null,
      "outputs": [
        {
          "output_type": "stream",
          "name": "stdout",
          "text": [
            "1000110 is not a palindrome.\n"
          ]
        }
      ]
    }
  ]
}